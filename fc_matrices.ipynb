{
 "metadata": {
  "language_info": {
   "codemirror_mode": {
    "name": "ipython",
    "version": 3
   },
   "file_extension": ".py",
   "mimetype": "text/x-python",
   "name": "python",
   "nbconvert_exporter": "python",
   "pygments_lexer": "ipython3",
   "version": "3.6.6-final"
  },
  "orig_nbformat": 2,
  "kernelspec": {
   "name": "python3",
   "display_name": "Python 3",
   "language": "python"
  }
 },
 "nbformat": 4,
 "nbformat_minor": 2,
 "cells": [
  {
   "source": [
    "# Get ROI Time Series"
   ],
   "cell_type": "markdown",
   "metadata": {}
  },
  {
   "cell_type": "code",
   "execution_count": 1,
   "metadata": {},
   "outputs": [],
   "source": [
    "def roi_maskdims(img_shape, nROIs):\n",
    "    if isinstance(img_shape, tuple):\n",
    "        img_shape = list(img_shape)\n",
    "\n",
    "    mask_shape = list(img_shape)\n",
    "    mask_shape.append(nROIs)\n",
    "\n",
    "    del(img_shape, nROIs)\n",
    "    return(mask_shape)"
   ]
  },
  {
   "cell_type": "code",
   "execution_count": 2,
   "metadata": {},
   "outputs": [],
   "source": [
    "def maskROIs_as_time(mat):\n",
    "    import numpy as np\n",
    "    import nibabel as nib\n",
    "\n",
    "    if isinstance(mat, str):\n",
    "        mat = nib.load(mat)\n",
    "        mat = img.get_fdata()\n",
    "\n",
    "    roi_ls = np.unique(mat)\n",
    "    roi_ls = roi_ls[roi_ls != 0]\n",
    "\n",
    "    mat_dim = list(mat.shape)\n",
    "    mat_dim.append(1)\n",
    "    mat = np.reshape(mat, mat_dim)\n",
    "\n",
    "    roi_mat = np.tile(mat, (1,1,1,len(roi_ls)))\n",
    "\n",
    "    for ind,val in zip(range(len(roi_ls)), roi_ls):\n",
    "        roi_mat[:,:,:,ind] = roi_mat[:,:,:,ind] - (val-1)\n",
    "    \n",
    "    roi_mat[roi_mat != 1] = 0\n",
    "\n",
    "    del(mat, roi_ls, ind, val)\n",
    "    return(roi_mat)\n"
   ]
  },
  {
   "cell_type": "code",
   "execution_count": 3,
   "metadata": {},
   "outputs": [],
   "source": [
    "def mult_NiiByMask(img, mask):\n",
    "    # for each point along the fourth dimension of mat4d, element-wise multiply mat4d and mat3d\n",
    "    import numpy as np\n",
    "\n",
    "    if len(img.shape) != 4:\n",
    "        raise Exception(\"img must be a 4-dimensional array\")\n",
    "    if len(mask.shape) != 3:\n",
    "        raise Exception(\"mask must be a 3-dimensional array\")\n",
    "\n",
    "    mask_4d_dim = list(mask.shape)\n",
    "    mask_4d_dim.append(1)\n",
    "    \n",
    "    mask = np.reshape(mask, mask_4d_dim)\n",
    "    mask = np.tile(mask, (1,1,1,img.shape[3]))\n",
    "    \n",
    "    prod_mat = np.zeros(img.shape)\n",
    "    prod_mat[np.nonzero(mask)] = img[np.nonzero(mask)]\n",
    "    \n",
    "    del(img, mask)\n",
    "    return(prod_mat) # output is x,y,z,time\n"
   ]
  },
  {
   "cell_type": "code",
   "execution_count": 4,
   "metadata": {},
   "outputs": [],
   "source": [
    "def roi_tcourse(img, mask):\n",
    "    # compute the mean time course for each ROI \n",
    "    import numpy as np\n",
    "\n",
    "    if img.shape[0:3] != mask.shape:\n",
    "        raise Exception(\"img and mask are not in the same 3d space.\")\n",
    "\n",
    "    mean_tcourse = img / np.sum(mask)\n",
    "    mean_tcourse = np.sum(mean_tcourse, (0,1,2))\n",
    "\n",
    "    del(img, mask)\n",
    "    return(mean_tcourse)"
   ]
  },
  {
   "cell_type": "code",
   "execution_count": 5,
   "metadata": {},
   "outputs": [],
   "source": [
    "def atlas_tcourse(nifti_path, mask_path, file_out=None):\n",
    "    import numpy as np\n",
    "    import nibabel as nib\n",
    "\n",
    "    print(\"+ IMPORTING DATA\")\n",
    "    img = nib.load(nifti_path)\n",
    "    img = img.get_fdata()\n",
    "    \n",
    "    mask = nib.load(mask_path)\n",
    "    mask = mask.get_fdata()\n",
    "\n",
    "    print(\"+ SPLITTING ROIs\")\n",
    "    mask = maskROIs_as_time(mask) # mask becomes 4d\n",
    "\n",
    "    if len(img.shape) != 4:\n",
    "        raise Exception(\"The provided nifti file must be 4D.\")\n",
    "    if img.shape[0:3] != mask.shape[0:3]:\n",
    "        raise Exception(\"The provided nifti file and mask must be in the same 3D space.\")\n",
    "    \n",
    "    print(\"+ COMPUTING MEAN TIME COURSE\")\n",
    "    mean_tcourse = np.zeros([img.shape[3], mask.shape[3]])\n",
    "    \n",
    "    for roi in range(mask.shape[3]):\n",
    "        prod_mat = mult_NiiByMask(img, mask[:,:,:,roi]) # output is x,y,z,time\n",
    "        mean_tcourse[:,roi] = roi_tcourse(prod_mat, mask[:,:,:,roi])\n",
    "        \n",
    "        del(prod_mat)\n",
    "\n",
    "    print(\"+ SAVING\")\n",
    "    if isinstance(file_out,str):\n",
    "        hdr = \",\".join([\"roi_\"+str(roi+1) for roi in range(mask.shape[3])])\n",
    "        np.savetxt(file_out, mean_tcourse, header=hdr, comments='', delimiter=',')\n",
    "\n",
    "    return(mean_tcourse)"
   ]
  },
  {
   "source": [
    "# Sliding Time Window"
   ],
   "cell_type": "markdown",
   "metadata": {}
  },
  {
   "cell_type": "code",
   "execution_count": null,
   "metadata": {},
   "outputs": [],
   "source": [
    "def n_twin(n_tpts, win_sz, step_sz, fill_tline=False):\n",
    "    from math import floor\n",
    "    \n",
    "    num_twin = (n_tpts - win_sz) / step_sz\n",
    "    \n",
    "    if fill_tline:\n",
    "        ovr_spill = num_twin.is_integer()\n",
    "    else:\n",
    "        ovr_spill = False\n",
    "\n",
    "    return(floor(num_twin), ovr_spill) # returns the number of whole time windows and if there is spill-over\n"
   ]
  },
  {
   "cell_type": "code",
   "execution_count": null,
   "metadata": {},
   "outputs": [],
   "source": [
    "def sliding_twin(ttab, win_sz, step_sz, prefix=None, plot=True, fill_tline=False):\n",
    "    import numpy as np\n",
    "\n",
    "    if len(ttwin.shape) != 2:\n",
    "        raise Exception(\"The table must be a 2-D array\")\n",
    "\n",
    "    num_twin, ovr_spill = n_twin(ttab.shape[1], win_sz, step_sz, fill_tline)\n",
    "\n",
    "    fc_mats = np.zero([ttab.shape[1], ttab.shape[1], num_twin+ovr_spill])\n",
    "\n",
    "    win_pos = 0\n",
    "    for win in range(num_twin):\n",
    "        ttab_win = ttab[range(win_pos, win_pos+step_sz),:]\n",
    "        fc_mats[:,:,win] = np.corrcoef(np.transpose(ttab_win))\n",
    "        win_pos += step_sz\n",
    "\n",
    "    if ovr_spill:\n",
    "        ttab_win = ttab[win_pos:-1,:]\n",
    "        fc_mats[:,:,num_twin+ovr_spill] = np.corrcoef(np.transpose(ttab_win))\n",
    "\n",
    "    if plot:\n",
    "        print(\"plotting\") ###\n",
    "\n",
    "    if prefix is not None:\n",
    "        import scipy.io as sio\n",
    "        sio.savemat(prefix+\"_FCmatrix.mat\", fc_mats)\n",
    "\n",
    "    return(ttab_win)"
   ]
  },
  {
   "source": [
    "# K-Means Clustering"
   ],
   "cell_type": "markdown",
   "metadata": {}
  },
  {
   "cell_type": "code",
   "execution_count": null,
   "metadata": {},
   "outputs": [],
   "source": []
  },
  {
   "source": [
    "# Testing Area"
   ],
   "cell_type": "markdown",
   "metadata": {}
  },
  {
   "cell_type": "code",
   "execution_count": 8,
   "metadata": {},
   "outputs": [
    {
     "output_type": "stream",
     "name": "stdout",
     "text": [
      "+ IMPORTING DATA\n",
      "+ SPLITTING ROIs\n",
      "+ COMPUTING MEAN TIME COURSE\n",
      "0\n",
      "1\n",
      "2\n",
      "3\n",
      "4\n",
      "5\n",
      "6\n",
      "7\n",
      "8\n",
      "+ SAVING\n"
     ]
    }
   ],
   "source": [
    "# mask_path  = \"/mnt/c/Users/John/Desktop/MNI/MNI-maxprob-thr0-2mm.nii.gz\"\n",
    "# nifti_path = \"/mnt/d/Downloads/ds000031-download/sub-01/ses-003/out/func/scrub_motreg_s_nl_m_t_func.nii.gz\"\n",
    "# file_out   = \"/mnt/c/Users/John/Desktop/mean_roi_tcourse.csv\"\n",
    "\n",
    "mask_path  = \"C:/Users/John/Desktop/MNI/MNI-maxprob-thr0-2mm.nii.gz\"\n",
    "nifti_path = \"D:/Downloads/ds000031-download/sub-01/ses-003/out/func/scrub_motreg_s_nl_m_t_func.nii.gz\"\n",
    "file_out   = \"C:/Users/John/Desktop/mean_roi_tcourse.csv\"\n",
    "\n",
    "tcourse = atlas_tcourse(nifti_path, mask_path, file_out)"
   ]
  },
  {
   "cell_type": "code",
   "execution_count": 17,
   "metadata": {},
   "outputs": [
    {
     "output_type": "execute_result",
     "data": {
      "text/plain": [
       "array([0.54641922, 0.87566213, 0.78299617, 0.82603912, 0.96633048,\n",
       "       0.89760251, 0.70064896, 1.        , 0.78863196])"
      ]
     },
     "metadata": {},
     "execution_count": 17
    }
   ],
   "source": [
    "import numpy as np\n",
    "\n",
    "cormat=np.corrcoef(np.transpose(tcourse))\n",
    "cormat[7,:]"
   ]
  }
 ]
}